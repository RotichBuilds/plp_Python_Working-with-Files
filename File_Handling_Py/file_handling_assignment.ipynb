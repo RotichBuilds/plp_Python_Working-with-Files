{
 "cells": [
  {
   "cell_type": "code",
   "execution_count": 17,
   "metadata": {},
   "outputs": [
    {
     "name": "stdout",
     "output_type": "stream",
     "text": [
      "File 'my_file.txt' created and written to successfully.\n",
      "Line 1: Going to school. \n",
      "\n",
      "Line 2: 1079. \n",
      "\n",
      "Line 3: My address is 00100 - 479 Nairobi. \n",
      "\n",
      "File 'my_file.txt' read successfully.\n",
      "File 'my_file.txt' appended to successfully.\n",
      "Written and and appended Content in my_file.txt: \n",
      "Line 1: Going to school. \n",
      "Line 2: 1079. \n",
      "Line 3: My address is 00100 - 479 Nairobi. \n",
      "Line 4: Cat and dog are domestic animals.\n",
      "Line 5: Weather is good.\n",
      "Line 6: Good bye. \n",
      "\n"
     ]
    }
   ],
   "source": [
    "# File Creation\n",
    "\n",
    "try: \n",
    "    with open(\"my_file.txt\", \"w\") as f:\n",
    "        f.write(\"Line 1: Going to school. \\n\")\n",
    "        f.write(\"Line 2: 1079. \\n\")\n",
    "        f.write(\"Line 3: My address is 00100 - 479 Nairobi. \\n\")\n",
    "except FileNotFoundError:\n",
    "    print(\"Error: File not found.\")\n",
    "    \n",
    "except PermissionError:\n",
    "    print(\"Error: No permission to write this granted.\")\n",
    "    \n",
    "except Exception as e:\n",
    "    print(\"Error:\", e)\n",
    "    \n",
    "else:\n",
    "    print(\"File 'my_file.txt' created and written to successfully.\")\n",
    "        \n",
    "#File reading and Display\n",
    "try:\n",
    "    with open(\"my_file.txt\", \"r\") as f:\n",
    "        for line in f.readlines():\n",
    "            print(line)\n",
    "except FileNotFoundError:\n",
    "    print(\"Error: File not found.\")\n",
    "except PermissionError:\n",
    "    print(\"Error: Insufficient permissions to read from the file.\")\n",
    "except Exception as e:\n",
    "    print(\"Error:\", e)\n",
    "else:\n",
    "    print(\"File 'my_file.txt' read successfully.\")\n",
    "# File Appending\n",
    "try:\n",
    "    with open('my_file.txt', 'a') as f:\n",
    "        f.write(\"Line 4: Cat and dog are domestic animals.\\n\")\n",
    "        f.write(\"Line 5: Weather is good.\\n\")\n",
    "        f.write(\"Line 6: Good bye. \\n\")\n",
    "except FileNotFoundError:\n",
    "    print(\"Error: File not found.\")\n",
    "except PermissionError:\n",
    "    print(\"Error: Insufficient permissions to write to the file.\")\n",
    "except Exception as e:\n",
    "    print(\"Error:\", e)\n",
    "else:\n",
    "    print(\"File 'my_file.txt' appended to successfully.\")\n",
    "\n"
   ]
  },
  {
   "cell_type": "code",
   "execution_count": 18,
   "metadata": {},
   "outputs": [
    {
     "name": "stdout",
     "output_type": "stream",
     "text": [
      "Written and and appended Content in my_file.txt: \n",
      "Line 1: Going to school. \n",
      "Line 2: 1079. \n",
      "Line 3: My address is 00100 - 479 Nairobi. \n",
      "Line 4: Cat and dog are domestic animals.\n",
      "Line 5: Weather is good.\n",
      "Line 6: Good bye. \n",
      "\n"
     ]
    }
   ],
   "source": [
    "#Reading my_file.text\n",
    "with open(\"my_file.txt\", \"r\")  as f:\n",
    "    contents = f.read()\n",
    "print(\"Written and and appended Content in my_file.txt: \")\n",
    "print(contents)"
   ]
  }
 ],
 "metadata": {
  "kernelspec": {
   "display_name": "Python 3",
   "language": "python",
   "name": "python3"
  },
  "language_info": {
   "codemirror_mode": {
    "name": "ipython",
    "version": 3
   },
   "file_extension": ".py",
   "mimetype": "text/x-python",
   "name": "python",
   "nbconvert_exporter": "python",
   "pygments_lexer": "ipython3",
   "version": "3.12.4"
  }
 },
 "nbformat": 4,
 "nbformat_minor": 2
}
